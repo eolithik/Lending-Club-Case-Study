{
 "cells": [
  {
   "cell_type": "markdown",
   "metadata": {},
   "source": [
    "##### Importing libraries"
   ]
  },
  {
   "cell_type": "code",
   "execution_count": 1,
   "metadata": {},
   "outputs": [],
   "source": [
    "import numpy as np\n",
    "import pandas as pd"
   ]
  },
  {
   "cell_type": "code",
   "execution_count": 2,
   "metadata": {},
   "outputs": [],
   "source": [
    "import matplotlib.pyplot as plt\n",
    "import seaborn as sns"
   ]
  },
  {
   "cell_type": "code",
   "execution_count": 3,
   "metadata": {},
   "outputs": [],
   "source": [
    "%matplotlib inline\n",
    "#pd.options.display.float_format = '{:,.2f}'.format\n",
    "#import warnings\n",
    "#warnings.filterwarnings('ignore')"
   ]
  },
  {
   "cell_type": "markdown",
   "metadata": {},
   "source": [
    "##### Importing data"
   ]
  },
  {
   "cell_type": "code",
   "execution_count": 4,
   "metadata": {},
   "outputs": [
    {
     "name": "stderr",
     "output_type": "stream",
     "text": [
      "/Users/chandrahas/opt/anaconda3/lib/python3.8/site-packages/IPython/core/interactiveshell.py:3071: DtypeWarning: Columns (47) have mixed types.Specify dtype option on import or set low_memory=False.\n",
      "  has_raised = await self.run_ast_nodes(code_ast.body, cell_name,\n"
     ]
    }
   ],
   "source": [
    "df = pd.read_csv('loan.csv')"
   ]
  },
  {
   "cell_type": "code",
   "execution_count": 5,
   "metadata": {},
   "outputs": [
    {
     "data": {
      "text/html": [
       "<div>\n",
       "<style scoped>\n",
       "    .dataframe tbody tr th:only-of-type {\n",
       "        vertical-align: middle;\n",
       "    }\n",
       "\n",
       "    .dataframe tbody tr th {\n",
       "        vertical-align: top;\n",
       "    }\n",
       "\n",
       "    .dataframe thead th {\n",
       "        text-align: right;\n",
       "    }\n",
       "</style>\n",
       "<table border=\"1\" class=\"dataframe\">\n",
       "  <thead>\n",
       "    <tr style=\"text-align: right;\">\n",
       "      <th></th>\n",
       "      <th>id</th>\n",
       "      <th>member_id</th>\n",
       "      <th>loan_amnt</th>\n",
       "      <th>funded_amnt</th>\n",
       "      <th>funded_amnt_inv</th>\n",
       "      <th>term</th>\n",
       "      <th>int_rate</th>\n",
       "      <th>installment</th>\n",
       "      <th>grade</th>\n",
       "      <th>sub_grade</th>\n",
       "      <th>...</th>\n",
       "      <th>num_tl_90g_dpd_24m</th>\n",
       "      <th>num_tl_op_past_12m</th>\n",
       "      <th>pct_tl_nvr_dlq</th>\n",
       "      <th>percent_bc_gt_75</th>\n",
       "      <th>pub_rec_bankruptcies</th>\n",
       "      <th>tax_liens</th>\n",
       "      <th>tot_hi_cred_lim</th>\n",
       "      <th>total_bal_ex_mort</th>\n",
       "      <th>total_bc_limit</th>\n",
       "      <th>total_il_high_credit_limit</th>\n",
       "    </tr>\n",
       "  </thead>\n",
       "  <tbody>\n",
       "    <tr>\n",
       "      <th>0</th>\n",
       "      <td>1077501</td>\n",
       "      <td>1296599</td>\n",
       "      <td>5000</td>\n",
       "      <td>5000</td>\n",
       "      <td>4975.0</td>\n",
       "      <td>36 months</td>\n",
       "      <td>10.65%</td>\n",
       "      <td>162.87</td>\n",
       "      <td>B</td>\n",
       "      <td>B2</td>\n",
       "      <td>...</td>\n",
       "      <td>NaN</td>\n",
       "      <td>NaN</td>\n",
       "      <td>NaN</td>\n",
       "      <td>NaN</td>\n",
       "      <td>0.0</td>\n",
       "      <td>0.0</td>\n",
       "      <td>NaN</td>\n",
       "      <td>NaN</td>\n",
       "      <td>NaN</td>\n",
       "      <td>NaN</td>\n",
       "    </tr>\n",
       "    <tr>\n",
       "      <th>1</th>\n",
       "      <td>1077430</td>\n",
       "      <td>1314167</td>\n",
       "      <td>2500</td>\n",
       "      <td>2500</td>\n",
       "      <td>2500.0</td>\n",
       "      <td>60 months</td>\n",
       "      <td>15.27%</td>\n",
       "      <td>59.83</td>\n",
       "      <td>C</td>\n",
       "      <td>C4</td>\n",
       "      <td>...</td>\n",
       "      <td>NaN</td>\n",
       "      <td>NaN</td>\n",
       "      <td>NaN</td>\n",
       "      <td>NaN</td>\n",
       "      <td>0.0</td>\n",
       "      <td>0.0</td>\n",
       "      <td>NaN</td>\n",
       "      <td>NaN</td>\n",
       "      <td>NaN</td>\n",
       "      <td>NaN</td>\n",
       "    </tr>\n",
       "    <tr>\n",
       "      <th>2</th>\n",
       "      <td>1077175</td>\n",
       "      <td>1313524</td>\n",
       "      <td>2400</td>\n",
       "      <td>2400</td>\n",
       "      <td>2400.0</td>\n",
       "      <td>36 months</td>\n",
       "      <td>15.96%</td>\n",
       "      <td>84.33</td>\n",
       "      <td>C</td>\n",
       "      <td>C5</td>\n",
       "      <td>...</td>\n",
       "      <td>NaN</td>\n",
       "      <td>NaN</td>\n",
       "      <td>NaN</td>\n",
       "      <td>NaN</td>\n",
       "      <td>0.0</td>\n",
       "      <td>0.0</td>\n",
       "      <td>NaN</td>\n",
       "      <td>NaN</td>\n",
       "      <td>NaN</td>\n",
       "      <td>NaN</td>\n",
       "    </tr>\n",
       "    <tr>\n",
       "      <th>3</th>\n",
       "      <td>1076863</td>\n",
       "      <td>1277178</td>\n",
       "      <td>10000</td>\n",
       "      <td>10000</td>\n",
       "      <td>10000.0</td>\n",
       "      <td>36 months</td>\n",
       "      <td>13.49%</td>\n",
       "      <td>339.31</td>\n",
       "      <td>C</td>\n",
       "      <td>C1</td>\n",
       "      <td>...</td>\n",
       "      <td>NaN</td>\n",
       "      <td>NaN</td>\n",
       "      <td>NaN</td>\n",
       "      <td>NaN</td>\n",
       "      <td>0.0</td>\n",
       "      <td>0.0</td>\n",
       "      <td>NaN</td>\n",
       "      <td>NaN</td>\n",
       "      <td>NaN</td>\n",
       "      <td>NaN</td>\n",
       "    </tr>\n",
       "    <tr>\n",
       "      <th>4</th>\n",
       "      <td>1075358</td>\n",
       "      <td>1311748</td>\n",
       "      <td>3000</td>\n",
       "      <td>3000</td>\n",
       "      <td>3000.0</td>\n",
       "      <td>60 months</td>\n",
       "      <td>12.69%</td>\n",
       "      <td>67.79</td>\n",
       "      <td>B</td>\n",
       "      <td>B5</td>\n",
       "      <td>...</td>\n",
       "      <td>NaN</td>\n",
       "      <td>NaN</td>\n",
       "      <td>NaN</td>\n",
       "      <td>NaN</td>\n",
       "      <td>0.0</td>\n",
       "      <td>0.0</td>\n",
       "      <td>NaN</td>\n",
       "      <td>NaN</td>\n",
       "      <td>NaN</td>\n",
       "      <td>NaN</td>\n",
       "    </tr>\n",
       "  </tbody>\n",
       "</table>\n",
       "<p>5 rows × 111 columns</p>\n",
       "</div>"
      ],
      "text/plain": [
       "        id  member_id  loan_amnt  funded_amnt  funded_amnt_inv        term  \\\n",
       "0  1077501    1296599       5000         5000           4975.0   36 months   \n",
       "1  1077430    1314167       2500         2500           2500.0   60 months   \n",
       "2  1077175    1313524       2400         2400           2400.0   36 months   \n",
       "3  1076863    1277178      10000        10000          10000.0   36 months   \n",
       "4  1075358    1311748       3000         3000           3000.0   60 months   \n",
       "\n",
       "  int_rate  installment grade sub_grade  ... num_tl_90g_dpd_24m  \\\n",
       "0   10.65%       162.87     B        B2  ...                NaN   \n",
       "1   15.27%        59.83     C        C4  ...                NaN   \n",
       "2   15.96%        84.33     C        C5  ...                NaN   \n",
       "3   13.49%       339.31     C        C1  ...                NaN   \n",
       "4   12.69%        67.79     B        B5  ...                NaN   \n",
       "\n",
       "  num_tl_op_past_12m pct_tl_nvr_dlq  percent_bc_gt_75 pub_rec_bankruptcies  \\\n",
       "0                NaN            NaN               NaN                  0.0   \n",
       "1                NaN            NaN               NaN                  0.0   \n",
       "2                NaN            NaN               NaN                  0.0   \n",
       "3                NaN            NaN               NaN                  0.0   \n",
       "4                NaN            NaN               NaN                  0.0   \n",
       "\n",
       "  tax_liens tot_hi_cred_lim total_bal_ex_mort total_bc_limit  \\\n",
       "0       0.0             NaN               NaN            NaN   \n",
       "1       0.0             NaN               NaN            NaN   \n",
       "2       0.0             NaN               NaN            NaN   \n",
       "3       0.0             NaN               NaN            NaN   \n",
       "4       0.0             NaN               NaN            NaN   \n",
       "\n",
       "  total_il_high_credit_limit  \n",
       "0                        NaN  \n",
       "1                        NaN  \n",
       "2                        NaN  \n",
       "3                        NaN  \n",
       "4                        NaN  \n",
       "\n",
       "[5 rows x 111 columns]"
      ]
     },
     "execution_count": 5,
     "metadata": {},
     "output_type": "execute_result"
    }
   ],
   "source": [
    "df.head()"
   ]
  },
  {
   "cell_type": "code",
   "execution_count": 6,
   "metadata": {},
   "outputs": [
    {
     "data": {
      "text/plain": [
       "(39717, 111)"
      ]
     },
     "execution_count": 6,
     "metadata": {},
     "output_type": "execute_result"
    }
   ],
   "source": [
    "# Shape of Dataframe\n",
    "\n",
    "df.shape"
   ]
  },
  {
   "cell_type": "code",
   "execution_count": null,
   "metadata": {},
   "outputs": [],
   "source": []
  },
  {
   "cell_type": "markdown",
   "metadata": {},
   "source": [
    "##### Data Cleaning"
   ]
  },
  {
   "cell_type": "markdown",
   "metadata": {},
   "source": [
    "Checking column which contribute to the analysis by looking to the Data dictionary; those who do not seems to contribute to the analysis can be removed from the dataset."
   ]
  },
  {
   "cell_type": "code",
   "execution_count": 7,
   "metadata": {},
   "outputs": [],
   "source": [
    "# 'id' and 'member_id' are just random number and do not contribute to analysis; 'url' also doesn't contribute to analysis\n",
    "# dropping columns\n",
    "\n",
    "df = df.drop(['id','member_id', 'url'], axis=1)"
   ]
  },
  {
   "cell_type": "code",
   "execution_count": 8,
   "metadata": {},
   "outputs": [
    {
     "data": {
      "text/html": [
       "<div>\n",
       "<style scoped>\n",
       "    .dataframe tbody tr th:only-of-type {\n",
       "        vertical-align: middle;\n",
       "    }\n",
       "\n",
       "    .dataframe tbody tr th {\n",
       "        vertical-align: top;\n",
       "    }\n",
       "\n",
       "    .dataframe thead th {\n",
       "        text-align: right;\n",
       "    }\n",
       "</style>\n",
       "<table border=\"1\" class=\"dataframe\">\n",
       "  <thead>\n",
       "    <tr style=\"text-align: right;\">\n",
       "      <th></th>\n",
       "      <th>0</th>\n",
       "      <th>1</th>\n",
       "    </tr>\n",
       "  </thead>\n",
       "  <tbody>\n",
       "    <tr>\n",
       "      <th>emp_title</th>\n",
       "      <td>2459</td>\n",
       "      <td>6.191303</td>\n",
       "    </tr>\n",
       "    <tr>\n",
       "      <th>emp_length</th>\n",
       "      <td>1075</td>\n",
       "      <td>2.706650</td>\n",
       "    </tr>\n",
       "    <tr>\n",
       "      <th>desc</th>\n",
       "      <td>12940</td>\n",
       "      <td>32.580507</td>\n",
       "    </tr>\n",
       "    <tr>\n",
       "      <th>title</th>\n",
       "      <td>11</td>\n",
       "      <td>0.027696</td>\n",
       "    </tr>\n",
       "    <tr>\n",
       "      <th>mths_since_last_delinq</th>\n",
       "      <td>25682</td>\n",
       "      <td>64.662487</td>\n",
       "    </tr>\n",
       "    <tr>\n",
       "      <th>...</th>\n",
       "      <td>...</td>\n",
       "      <td>...</td>\n",
       "    </tr>\n",
       "    <tr>\n",
       "      <th>tax_liens</th>\n",
       "      <td>39</td>\n",
       "      <td>0.098195</td>\n",
       "    </tr>\n",
       "    <tr>\n",
       "      <th>tot_hi_cred_lim</th>\n",
       "      <td>39717</td>\n",
       "      <td>100.000000</td>\n",
       "    </tr>\n",
       "    <tr>\n",
       "      <th>total_bal_ex_mort</th>\n",
       "      <td>39717</td>\n",
       "      <td>100.000000</td>\n",
       "    </tr>\n",
       "    <tr>\n",
       "      <th>total_bc_limit</th>\n",
       "      <td>39717</td>\n",
       "      <td>100.000000</td>\n",
       "    </tr>\n",
       "    <tr>\n",
       "      <th>total_il_high_credit_limit</th>\n",
       "      <td>39717</td>\n",
       "      <td>100.000000</td>\n",
       "    </tr>\n",
       "  </tbody>\n",
       "</table>\n",
       "<p>68 rows × 2 columns</p>\n",
       "</div>"
      ],
      "text/plain": [
       "                                0           1\n",
       "emp_title                    2459    6.191303\n",
       "emp_length                   1075    2.706650\n",
       "desc                        12940   32.580507\n",
       "title                          11    0.027696\n",
       "mths_since_last_delinq      25682   64.662487\n",
       "...                           ...         ...\n",
       "tax_liens                      39    0.098195\n",
       "tot_hi_cred_lim             39717  100.000000\n",
       "total_bal_ex_mort           39717  100.000000\n",
       "total_bc_limit              39717  100.000000\n",
       "total_il_high_credit_limit  39717  100.000000\n",
       "\n",
       "[68 rows x 2 columns]"
      ]
     },
     "execution_count": 8,
     "metadata": {},
     "output_type": "execute_result"
    }
   ],
   "source": [
    "#Checking column with missing values\n",
    "\n",
    "null = df.isnull().sum()\n",
    "null_cent = (null/len(df))*100\n",
    "null_chk = pd.concat([null, null_cent], axis=1)\n",
    "null_chk[null_chk[1]>0]"
   ]
  },
  {
   "cell_type": "code",
   "execution_count": 9,
   "metadata": {},
   "outputs": [
    {
     "data": {
      "text/html": [
       "<div>\n",
       "<style scoped>\n",
       "    .dataframe tbody tr th:only-of-type {\n",
       "        vertical-align: middle;\n",
       "    }\n",
       "\n",
       "    .dataframe tbody tr th {\n",
       "        vertical-align: top;\n",
       "    }\n",
       "\n",
       "    .dataframe thead th {\n",
       "        text-align: right;\n",
       "    }\n",
       "</style>\n",
       "<table border=\"1\" class=\"dataframe\">\n",
       "  <thead>\n",
       "    <tr style=\"text-align: right;\">\n",
       "      <th></th>\n",
       "      <th>0</th>\n",
       "      <th>1</th>\n",
       "    </tr>\n",
       "  </thead>\n",
       "  <tbody>\n",
       "    <tr>\n",
       "      <th>mths_since_last_delinq</th>\n",
       "      <td>25682</td>\n",
       "      <td>64.662487</td>\n",
       "    </tr>\n",
       "    <tr>\n",
       "      <th>mths_since_last_record</th>\n",
       "      <td>36931</td>\n",
       "      <td>92.985372</td>\n",
       "    </tr>\n",
       "    <tr>\n",
       "      <th>next_pymnt_d</th>\n",
       "      <td>38577</td>\n",
       "      <td>97.129693</td>\n",
       "    </tr>\n",
       "    <tr>\n",
       "      <th>mths_since_last_major_derog</th>\n",
       "      <td>39717</td>\n",
       "      <td>100.000000</td>\n",
       "    </tr>\n",
       "    <tr>\n",
       "      <th>annual_inc_joint</th>\n",
       "      <td>39717</td>\n",
       "      <td>100.000000</td>\n",
       "    </tr>\n",
       "  </tbody>\n",
       "</table>\n",
       "</div>"
      ],
      "text/plain": [
       "                                 0           1\n",
       "mths_since_last_delinq       25682   64.662487\n",
       "mths_since_last_record       36931   92.985372\n",
       "next_pymnt_d                 38577   97.129693\n",
       "mths_since_last_major_derog  39717  100.000000\n",
       "annual_inc_joint             39717  100.000000"
      ]
     },
     "execution_count": 9,
     "metadata": {},
     "output_type": "execute_result"
    }
   ],
   "source": [
    "#columns with more than 50% missing values  \n",
    "\n",
    "missing_col = null_chk[null_chk[1]>50]\n",
    "missing_col.head()"
   ]
  },
  {
   "cell_type": "code",
   "execution_count": 10,
   "metadata": {},
   "outputs": [
    {
     "data": {
      "text/plain": [
       "57"
      ]
     },
     "execution_count": 10,
     "metadata": {},
     "output_type": "execute_result"
    }
   ],
   "source": [
    "len(missing_col)"
   ]
  },
  {
   "cell_type": "markdown",
   "metadata": {},
   "source": [
    "Lets remove the columns with more than 50% missing values"
   ]
  },
  {
   "cell_type": "code",
   "execution_count": 11,
   "metadata": {},
   "outputs": [],
   "source": [
    "#Dropping columns\n",
    "\n",
    "df = df.drop(list(missing_col.index),axis=1)"
   ]
  },
  {
   "cell_type": "code",
   "execution_count": 12,
   "metadata": {},
   "outputs": [
    {
     "data": {
      "text/plain": [
       "(39717, 51)"
      ]
     },
     "execution_count": 12,
     "metadata": {},
     "output_type": "execute_result"
    }
   ],
   "source": [
    "# checking shape of the Dataframe post removing columns with missing values\n",
    "\n",
    "df.shape"
   ]
  },
  {
   "cell_type": "code",
   "execution_count": 13,
   "metadata": {},
   "outputs": [
    {
     "data": {
      "text/plain": [
       "emp_title                      6.191303\n",
       "emp_length                     2.706650\n",
       "desc                          32.580507\n",
       "title                          0.027696\n",
       "revol_util                     0.125891\n",
       "last_pymnt_d                   0.178765\n",
       "last_credit_pull_d             0.005036\n",
       "collections_12_mths_ex_med     0.140998\n",
       "chargeoff_within_12_mths       0.140998\n",
       "pub_rec_bankruptcies           1.754916\n",
       "tax_liens                      0.098195\n",
       "dtype: float64"
      ]
     },
     "execution_count": 13,
     "metadata": {},
     "output_type": "execute_result"
    }
   ],
   "source": [
    "chk = (df.isnull().sum()/len(df))*100\n",
    "chk[chk>0]"
   ]
  },
  {
   "cell_type": "markdown",
   "metadata": {},
   "source": [
    "##### Identify which feature needs to be fixed and which can be removed"
   ]
  },
  {
   "cell_type": "markdown",
   "metadata": {},
   "source": [
    "***'desc'*** = Loan description provided by the borrower"
   ]
  },
  {
   "cell_type": "code",
   "execution_count": 14,
   "metadata": {},
   "outputs": [],
   "source": [
    "#desc is the Loan description provided by the borrower; this can be also concluded from the title column. \n",
    "#Therefore we can remove this column\n",
    "\n",
    "#Dropping desc\n",
    "\n",
    "df = df.drop('desc', axis=1)"
   ]
  },
  {
   "cell_type": "markdown",
   "metadata": {},
   "source": [
    "***'emp_title'*** = The job title supplied by the Borrower when applying for the loan"
   ]
  },
  {
   "cell_type": "code",
   "execution_count": 15,
   "metadata": {},
   "outputs": [
    {
     "name": "stdout",
     "output_type": "stream",
     "text": [
      "US Army                                     134\n",
      "Bank of America                             109\n",
      "IBM                                          66\n",
      "AT&T                                         59\n",
      "Kaiser Permanente                            56\n",
      "                                           ... \n",
      "Rushmore Capital Inc                          1\n",
      "Chesapeake Veterinary Surgical Specialis      1\n",
      "Northland Area Federal CU                     1\n",
      "Wayne County Airport Authority                1\n",
      "Medix Staffing Solutions, Inc.                1\n",
      "Name: emp_title, Length: 28820, dtype: int64\n",
      "\n",
      "\n",
      "Unique values in emp_title:  28820\n"
     ]
    }
   ],
   "source": [
    "print(df['emp_title'].value_counts())\n",
    "print(\"\\n\")\n",
    "print('Unique values in emp_title: ',df['emp_title'].nunique())"
   ]
  },
  {
   "cell_type": "code",
   "execution_count": 16,
   "metadata": {},
   "outputs": [],
   "source": [
    "# emp_title has large unique value and its a categorical data; it wont contribute to the Analysis, so drop the column\n",
    "\n",
    "# Dropping emp_title\n",
    "\n",
    "df = df.drop('emp_title', axis=1)"
   ]
  },
  {
   "cell_type": "markdown",
   "metadata": {},
   "source": [
    "***'emp_length'*** = Employment length in years. Possible values are between 0 and 10 where 0 means less than one year and\n",
    "10 means ten or more years."
   ]
  },
  {
   "cell_type": "code",
   "execution_count": 17,
   "metadata": {},
   "outputs": [
    {
     "name": "stdout",
     "output_type": "stream",
     "text": [
      "10+ years    8879\n",
      "< 1 year     4583\n",
      "2 years      4388\n",
      "3 years      4095\n",
      "4 years      3436\n",
      "5 years      3282\n",
      "1 year       3240\n",
      "6 years      2229\n",
      "7 years      1773\n",
      "8 years      1479\n",
      "9 years      1258\n",
      "Name: emp_length, dtype: int64\n",
      "\n",
      "\n",
      "Unique values in emp_length:  11\n",
      "Total missing values:  1075\n"
     ]
    }
   ],
   "source": [
    "print(df['emp_length'].value_counts())\n",
    "print(\"\\n\")\n",
    "print('Unique values in emp_length: ',df['emp_length'].nunique())\n",
    "print('Total missing values: ',df['emp_length'].isnull().sum())"
   ]
  },
  {
   "cell_type": "code",
   "execution_count": 18,
   "metadata": {},
   "outputs": [],
   "source": [
    "# emp_length can be used for analysis and fixing null values will add bias to the data\n",
    "\n",
    "# removing rows from emp_length column which contains null values\n",
    "\n",
    "df = df[~(df['emp_length'].isnull())]"
   ]
  },
  {
   "cell_type": "markdown",
   "metadata": {},
   "source": [
    "***'title'*** = The loan title provided by the borrower"
   ]
  },
  {
   "cell_type": "code",
   "execution_count": 19,
   "metadata": {},
   "outputs": [
    {
     "name": "stdout",
     "output_type": "stream",
     "text": [
      "Debt Consolidation                   2144\n",
      "Debt Consolidation Loan              1691\n",
      "Personal Loan                         641\n",
      "Consolidation                         511\n",
      "debt consolidation                    486\n",
      "                                     ... \n",
      "Bike payed off                          1\n",
      "Debt/Unexpected                         1\n",
      "Payoff High Interest Credit Cards       1\n",
      "skiteam7                                1\n",
      "Tickets Advertising                     1\n",
      "Name: title, Length: 19148, dtype: int64\n",
      "\n",
      "\n",
      "Unique values in title:  19148\n",
      "Total missing values:  10\n"
     ]
    }
   ],
   "source": [
    "print(df['title'].value_counts())\n",
    "print(\"\\n\")\n",
    "print('Unique values in title: ',df['title'].nunique())\n",
    "print('Total missing values: ',df['title'].isnull().sum())"
   ]
  },
  {
   "cell_type": "code",
   "execution_count": 20,
   "metadata": {},
   "outputs": [],
   "source": [
    "# title can be used for analysis, therefore missing values needs to be removed\n",
    "\n",
    "# removing rows with missing values\n",
    "\n",
    "df = df[~(df['title'].isnull())]"
   ]
  },
  {
   "cell_type": "markdown",
   "metadata": {},
   "source": [
    "***'revol_util'*** = Revolving line utilization rate, or the amount of credit the borrower is using relative to all available revolving credit."
   ]
  },
  {
   "cell_type": "code",
   "execution_count": 21,
   "metadata": {},
   "outputs": [
    {
     "name": "stdout",
     "output_type": "stream",
     "text": [
      "0%        941\n",
      "0.20%      62\n",
      "63%        61\n",
      "40.70%     57\n",
      "66.70%     57\n",
      "         ... \n",
      "26.33%      1\n",
      "1.88%       1\n",
      "32.04%      1\n",
      "13.56%      1\n",
      "0.12%       1\n",
      "Name: revol_util, Length: 1087, dtype: int64\n",
      "\n",
      "\n",
      "Unique values in revol_util:  1087\n",
      "Total missing values:  47\n"
     ]
    }
   ],
   "source": [
    "print(df['revol_util'].value_counts())\n",
    "print(\"\\n\")\n",
    "print('Unique values in revol_util: ',df['revol_util'].nunique())\n",
    "print('Total missing values: ',df['revol_util'].isnull().sum())"
   ]
  },
  {
   "cell_type": "code",
   "execution_count": 22,
   "metadata": {},
   "outputs": [],
   "source": [
    "# removing rows from revol_util which contains missing values\n",
    "\n",
    "df = df[~(df['revol_util'].isnull())]"
   ]
  },
  {
   "cell_type": "markdown",
   "metadata": {},
   "source": [
    "***'last_pymnt_d'*** = Last month payment was received"
   ]
  },
  {
   "cell_type": "code",
   "execution_count": 23,
   "metadata": {},
   "outputs": [
    {
     "name": "stdout",
     "output_type": "stream",
     "text": [
      "May-16    1209\n",
      "Mar-13     999\n",
      "Dec-14     910\n",
      "May-13     883\n",
      "Feb-13     845\n",
      "          ... \n",
      "Nov-08      10\n",
      "Jun-08      10\n",
      "Mar-08       5\n",
      "Jan-08       4\n",
      "Feb-08       1\n",
      "Name: last_pymnt_d, Length: 101, dtype: int64\n",
      "\n",
      "\n",
      "Unique values in last_pymnt_d:  101\n",
      "Total missing values:  62\n"
     ]
    }
   ],
   "source": [
    "print(df['last_pymnt_d'].value_counts())\n",
    "print(\"\\n\")\n",
    "print('Unique values in last_pymnt_d: ',df['last_pymnt_d'].nunique())\n",
    "print('Total missing values: ',df['last_pymnt_d'].isnull().sum())"
   ]
  },
  {
   "cell_type": "code",
   "execution_count": 24,
   "metadata": {},
   "outputs": [],
   "source": [
    "# Imputing data to the column will add bias\n",
    "\n",
    "# removing rows from last_pymnt_d which contains missing values\n",
    "\n",
    "df = df[~(df['last_pymnt_d'].isnull())]"
   ]
  },
  {
   "cell_type": "markdown",
   "metadata": {},
   "source": [
    "***'last_credit_pull_d'*** = The most recent month LC pulled credit for this loan"
   ]
  },
  {
   "cell_type": "code",
   "execution_count": 25,
   "metadata": {},
   "outputs": [
    {
     "name": "stdout",
     "output_type": "stream",
     "text": [
      "May-16    10031\n",
      "Apr-16     2476\n",
      "Mar-16     1094\n",
      "Feb-13      831\n",
      "Feb-16      714\n",
      "          ...  \n",
      "Jun-08        1\n",
      "May-07        1\n",
      "May-08        1\n",
      "Jul-07        1\n",
      "Jul-08        1\n",
      "Name: last_credit_pull_d, Length: 106, dtype: int64\n",
      "\n",
      "\n",
      "Unique values in last_credit_pull_d:  106\n",
      "Total missing values:  2\n"
     ]
    }
   ],
   "source": [
    "print(df['last_credit_pull_d'].value_counts())\n",
    "print(\"\\n\")\n",
    "print('Unique values in last_credit_pull_d: ',df['last_credit_pull_d'].nunique())\n",
    "print('Total missing values: ',df['last_credit_pull_d'].isnull().sum())"
   ]
  },
  {
   "cell_type": "code",
   "execution_count": 26,
   "metadata": {},
   "outputs": [],
   "source": [
    "# There are only two missing values which can be deleted\n",
    "\n",
    "# Deleting rows with missing values\n",
    "\n",
    "df = df[~(df['last_credit_pull_d'].isnull())]"
   ]
  },
  {
   "cell_type": "markdown",
   "metadata": {},
   "source": [
    "***'collections_12_mths_ex_med'*** = Number of collections in 12 months excluding medical collections"
   ]
  },
  {
   "cell_type": "code",
   "execution_count": 27,
   "metadata": {},
   "outputs": [
    {
     "name": "stdout",
     "output_type": "stream",
     "text": [
      "0.0    38465\n",
      "Name: collections_12_mths_ex_med, dtype: int64\n",
      "\n",
      "\n",
      "Unique values in collections_12_mths_ex_med:  1\n",
      "Total missing values:  56\n"
     ]
    }
   ],
   "source": [
    "print(df['collections_12_mths_ex_med'].value_counts())\n",
    "print(\"\\n\")\n",
    "print('Unique values in collections_12_mths_ex_med: ',df['collections_12_mths_ex_med'].nunique())\n",
    "print('Total missing values: ',df['collections_12_mths_ex_med'].isnull().sum())"
   ]
  },
  {
   "cell_type": "code",
   "execution_count": 28,
   "metadata": {},
   "outputs": [],
   "source": [
    "# Dropping column\n",
    "\n",
    "df = df.drop('collections_12_mths_ex_med', axis=1)"
   ]
  },
  {
   "cell_type": "markdown",
   "metadata": {},
   "source": [
    "***'chargeoff_within_12_mths'*** = Number of charge-offs within 12 months"
   ]
  },
  {
   "cell_type": "code",
   "execution_count": 29,
   "metadata": {},
   "outputs": [
    {
     "name": "stdout",
     "output_type": "stream",
     "text": [
      "0.0    38465\n",
      "Name: chargeoff_within_12_mths, dtype: int64\n",
      "\n",
      "\n",
      "Unique values in chargeoff_within_12_mths:  1\n",
      "Total missing values:  56\n"
     ]
    }
   ],
   "source": [
    "print(df['chargeoff_within_12_mths'].value_counts())\n",
    "print(\"\\n\")\n",
    "print('Unique values in chargeoff_within_12_mths: ',df['chargeoff_within_12_mths'].nunique())\n",
    "print('Total missing values: ',df['chargeoff_within_12_mths'].isnull().sum())"
   ]
  },
  {
   "cell_type": "code",
   "execution_count": 30,
   "metadata": {},
   "outputs": [],
   "source": [
    "# The column only has only one value, therefore the column can be removed\n",
    "# Dropping the column \n",
    "\n",
    "df = df.drop('chargeoff_within_12_mths', axis=1)"
   ]
  },
  {
   "cell_type": "markdown",
   "metadata": {},
   "source": [
    "***'pub_rec_bankruptcies'*** = Number of public record bankruptcies"
   ]
  },
  {
   "cell_type": "code",
   "execution_count": 31,
   "metadata": {},
   "outputs": [
    {
     "name": "stdout",
     "output_type": "stream",
     "text": [
      "0.0    36262\n",
      "1.0     1556\n",
      "2.0        7\n",
      "Name: pub_rec_bankruptcies, dtype: int64\n",
      "\n",
      "\n",
      "Unique values in pub_rec_bankruptcies:  3\n",
      "Total missing values:  696\n"
     ]
    }
   ],
   "source": [
    "print(df['pub_rec_bankruptcies'].value_counts())\n",
    "print(\"\\n\")\n",
    "print('Unique values in pub_rec_bankruptcies: ',df['pub_rec_bankruptcies'].nunique())\n",
    "print('Total missing values: ',df['pub_rec_bankruptcies'].isnull().sum())"
   ]
  },
  {
   "cell_type": "markdown",
   "metadata": {},
   "source": [
    "pub_rec_bankruptcies has 1.75% of missing rows which is a small percentage, therefore the Number of public record bankruptcies can be imputed with the mode of the column"
   ]
  },
  {
   "cell_type": "code",
   "execution_count": 32,
   "metadata": {},
   "outputs": [],
   "source": [
    "df['pub_rec_bankruptcies'] = df['pub_rec_bankruptcies'].fillna(df['pub_rec_bankruptcies'].mode()[0])"
   ]
  },
  {
   "cell_type": "markdown",
   "metadata": {},
   "source": [
    "***'tax_liens'*** = Number of tax liens "
   ]
  },
  {
   "cell_type": "code",
   "execution_count": 33,
   "metadata": {},
   "outputs": [
    {
     "name": "stdout",
     "output_type": "stream",
     "text": [
      "0.0    38482\n",
      "Name: tax_liens, dtype: int64\n",
      "\n",
      "\n",
      "Unique values in tax_liens:  1\n",
      "Total missing values:  39\n"
     ]
    }
   ],
   "source": [
    "print(df['tax_liens'].value_counts())\n",
    "print(\"\\n\")\n",
    "print('Unique values in tax_liens: ',df['tax_liens'].nunique())\n",
    "print('Total missing values: ',df['tax_liens'].isnull().sum())"
   ]
  },
  {
   "cell_type": "code",
   "execution_count": 34,
   "metadata": {},
   "outputs": [],
   "source": [
    "# The column only has only one value, therefore the column can be removed\n",
    "# dropping the column\n",
    "\n",
    "df = df.drop('tax_liens', axis=1)"
   ]
  },
  {
   "cell_type": "markdown",
   "metadata": {},
   "source": [
    "Dataframe post removal of missing values"
   ]
  },
  {
   "cell_type": "code",
   "execution_count": 35,
   "metadata": {},
   "outputs": [
    {
     "data": {
      "text/html": [
       "<div>\n",
       "<style scoped>\n",
       "    .dataframe tbody tr th:only-of-type {\n",
       "        vertical-align: middle;\n",
       "    }\n",
       "\n",
       "    .dataframe tbody tr th {\n",
       "        vertical-align: top;\n",
       "    }\n",
       "\n",
       "    .dataframe thead th {\n",
       "        text-align: right;\n",
       "    }\n",
       "</style>\n",
       "<table border=\"1\" class=\"dataframe\">\n",
       "  <thead>\n",
       "    <tr style=\"text-align: right;\">\n",
       "      <th></th>\n",
       "      <th>loan_amnt</th>\n",
       "      <th>funded_amnt</th>\n",
       "      <th>funded_amnt_inv</th>\n",
       "      <th>term</th>\n",
       "      <th>int_rate</th>\n",
       "      <th>installment</th>\n",
       "      <th>grade</th>\n",
       "      <th>sub_grade</th>\n",
       "      <th>emp_length</th>\n",
       "      <th>home_ownership</th>\n",
       "      <th>...</th>\n",
       "      <th>recoveries</th>\n",
       "      <th>collection_recovery_fee</th>\n",
       "      <th>last_pymnt_d</th>\n",
       "      <th>last_pymnt_amnt</th>\n",
       "      <th>last_credit_pull_d</th>\n",
       "      <th>policy_code</th>\n",
       "      <th>application_type</th>\n",
       "      <th>acc_now_delinq</th>\n",
       "      <th>delinq_amnt</th>\n",
       "      <th>pub_rec_bankruptcies</th>\n",
       "    </tr>\n",
       "  </thead>\n",
       "  <tbody>\n",
       "    <tr>\n",
       "      <th>0</th>\n",
       "      <td>5000</td>\n",
       "      <td>5000</td>\n",
       "      <td>4975.0</td>\n",
       "      <td>36 months</td>\n",
       "      <td>10.65%</td>\n",
       "      <td>162.87</td>\n",
       "      <td>B</td>\n",
       "      <td>B2</td>\n",
       "      <td>10+ years</td>\n",
       "      <td>RENT</td>\n",
       "      <td>...</td>\n",
       "      <td>0.00</td>\n",
       "      <td>0.00</td>\n",
       "      <td>Jan-15</td>\n",
       "      <td>171.62</td>\n",
       "      <td>May-16</td>\n",
       "      <td>1</td>\n",
       "      <td>INDIVIDUAL</td>\n",
       "      <td>0</td>\n",
       "      <td>0</td>\n",
       "      <td>0.0</td>\n",
       "    </tr>\n",
       "    <tr>\n",
       "      <th>1</th>\n",
       "      <td>2500</td>\n",
       "      <td>2500</td>\n",
       "      <td>2500.0</td>\n",
       "      <td>60 months</td>\n",
       "      <td>15.27%</td>\n",
       "      <td>59.83</td>\n",
       "      <td>C</td>\n",
       "      <td>C4</td>\n",
       "      <td>&lt; 1 year</td>\n",
       "      <td>RENT</td>\n",
       "      <td>...</td>\n",
       "      <td>117.08</td>\n",
       "      <td>1.11</td>\n",
       "      <td>Apr-13</td>\n",
       "      <td>119.66</td>\n",
       "      <td>Sep-13</td>\n",
       "      <td>1</td>\n",
       "      <td>INDIVIDUAL</td>\n",
       "      <td>0</td>\n",
       "      <td>0</td>\n",
       "      <td>0.0</td>\n",
       "    </tr>\n",
       "    <tr>\n",
       "      <th>2</th>\n",
       "      <td>2400</td>\n",
       "      <td>2400</td>\n",
       "      <td>2400.0</td>\n",
       "      <td>36 months</td>\n",
       "      <td>15.96%</td>\n",
       "      <td>84.33</td>\n",
       "      <td>C</td>\n",
       "      <td>C5</td>\n",
       "      <td>10+ years</td>\n",
       "      <td>RENT</td>\n",
       "      <td>...</td>\n",
       "      <td>0.00</td>\n",
       "      <td>0.00</td>\n",
       "      <td>Jun-14</td>\n",
       "      <td>649.91</td>\n",
       "      <td>May-16</td>\n",
       "      <td>1</td>\n",
       "      <td>INDIVIDUAL</td>\n",
       "      <td>0</td>\n",
       "      <td>0</td>\n",
       "      <td>0.0</td>\n",
       "    </tr>\n",
       "    <tr>\n",
       "      <th>3</th>\n",
       "      <td>10000</td>\n",
       "      <td>10000</td>\n",
       "      <td>10000.0</td>\n",
       "      <td>36 months</td>\n",
       "      <td>13.49%</td>\n",
       "      <td>339.31</td>\n",
       "      <td>C</td>\n",
       "      <td>C1</td>\n",
       "      <td>10+ years</td>\n",
       "      <td>RENT</td>\n",
       "      <td>...</td>\n",
       "      <td>0.00</td>\n",
       "      <td>0.00</td>\n",
       "      <td>Jan-15</td>\n",
       "      <td>357.48</td>\n",
       "      <td>Apr-16</td>\n",
       "      <td>1</td>\n",
       "      <td>INDIVIDUAL</td>\n",
       "      <td>0</td>\n",
       "      <td>0</td>\n",
       "      <td>0.0</td>\n",
       "    </tr>\n",
       "    <tr>\n",
       "      <th>4</th>\n",
       "      <td>3000</td>\n",
       "      <td>3000</td>\n",
       "      <td>3000.0</td>\n",
       "      <td>60 months</td>\n",
       "      <td>12.69%</td>\n",
       "      <td>67.79</td>\n",
       "      <td>B</td>\n",
       "      <td>B5</td>\n",
       "      <td>1 year</td>\n",
       "      <td>RENT</td>\n",
       "      <td>...</td>\n",
       "      <td>0.00</td>\n",
       "      <td>0.00</td>\n",
       "      <td>May-16</td>\n",
       "      <td>67.79</td>\n",
       "      <td>May-16</td>\n",
       "      <td>1</td>\n",
       "      <td>INDIVIDUAL</td>\n",
       "      <td>0</td>\n",
       "      <td>0</td>\n",
       "      <td>0.0</td>\n",
       "    </tr>\n",
       "  </tbody>\n",
       "</table>\n",
       "<p>5 rows × 46 columns</p>\n",
       "</div>"
      ],
      "text/plain": [
       "   loan_amnt  funded_amnt  funded_amnt_inv        term int_rate  installment  \\\n",
       "0       5000         5000           4975.0   36 months   10.65%       162.87   \n",
       "1       2500         2500           2500.0   60 months   15.27%        59.83   \n",
       "2       2400         2400           2400.0   36 months   15.96%        84.33   \n",
       "3      10000        10000          10000.0   36 months   13.49%       339.31   \n",
       "4       3000         3000           3000.0   60 months   12.69%        67.79   \n",
       "\n",
       "  grade sub_grade emp_length home_ownership  ...  recoveries  \\\n",
       "0     B        B2  10+ years           RENT  ...        0.00   \n",
       "1     C        C4   < 1 year           RENT  ...      117.08   \n",
       "2     C        C5  10+ years           RENT  ...        0.00   \n",
       "3     C        C1  10+ years           RENT  ...        0.00   \n",
       "4     B        B5     1 year           RENT  ...        0.00   \n",
       "\n",
       "  collection_recovery_fee last_pymnt_d last_pymnt_amnt last_credit_pull_d  \\\n",
       "0                    0.00       Jan-15          171.62             May-16   \n",
       "1                    1.11       Apr-13          119.66             Sep-13   \n",
       "2                    0.00       Jun-14          649.91             May-16   \n",
       "3                    0.00       Jan-15          357.48             Apr-16   \n",
       "4                    0.00       May-16           67.79             May-16   \n",
       "\n",
       "  policy_code application_type acc_now_delinq delinq_amnt  \\\n",
       "0           1       INDIVIDUAL              0           0   \n",
       "1           1       INDIVIDUAL              0           0   \n",
       "2           1       INDIVIDUAL              0           0   \n",
       "3           1       INDIVIDUAL              0           0   \n",
       "4           1       INDIVIDUAL              0           0   \n",
       "\n",
       "   pub_rec_bankruptcies  \n",
       "0                   0.0  \n",
       "1                   0.0  \n",
       "2                   0.0  \n",
       "3                   0.0  \n",
       "4                   0.0  \n",
       "\n",
       "[5 rows x 46 columns]"
      ]
     },
     "execution_count": 35,
     "metadata": {},
     "output_type": "execute_result"
    }
   ],
   "source": [
    "df.head()"
   ]
  },
  {
   "cell_type": "code",
   "execution_count": 36,
   "metadata": {},
   "outputs": [
    {
     "data": {
      "text/plain": [
       "(38521, 46)"
      ]
     },
     "execution_count": 36,
     "metadata": {},
     "output_type": "execute_result"
    }
   ],
   "source": [
    "df.shape"
   ]
  },
  {
   "cell_type": "markdown",
   "metadata": {},
   "source": [
    "Checking features which has only one value in the column"
   ]
  },
  {
   "cell_type": "code",
   "execution_count": 37,
   "metadata": {},
   "outputs": [
    {
     "data": {
      "text/plain": [
       "acc_now_delinq          1\n",
       "application_type        1\n",
       "policy_code             1\n",
       "initial_list_status     1\n",
       "delinq_amnt             1\n",
       "pymnt_plan              1\n",
       "term                    2\n",
       "pub_rec_bankruptcies    3\n",
       "verification_status     3\n",
       "loan_status             3\n",
       "dtype: int64"
      ]
     },
     "execution_count": 37,
     "metadata": {},
     "output_type": "execute_result"
    }
   ],
   "source": [
    "df.nunique().sort_values().head(10)"
   ]
  },
  {
   "cell_type": "code",
   "execution_count": 38,
   "metadata": {},
   "outputs": [],
   "source": [
    "# Dropping columns having only one value\n",
    "\n",
    "df = df.drop(['acc_now_delinq', 'application_type', 'policy_code', 'initial_list_status',\n",
    "              'delinq_amnt', 'pymnt_plan'], axis=1)"
   ]
  },
  {
   "cell_type": "markdown",
   "metadata": {},
   "source": [
    "Checking and evaluating each features with their values and data types"
   ]
  },
  {
   "cell_type": "code",
   "execution_count": 39,
   "metadata": {},
   "outputs": [
    {
     "name": "stdout",
     "output_type": "stream",
     "text": [
      "<class 'pandas.core.frame.DataFrame'>\n",
      "Int64Index: 38521 entries, 0 to 39716\n",
      "Data columns (total 40 columns):\n",
      " #   Column                   Non-Null Count  Dtype  \n",
      "---  ------                   --------------  -----  \n",
      " 0   loan_amnt                38521 non-null  int64  \n",
      " 1   funded_amnt              38521 non-null  int64  \n",
      " 2   funded_amnt_inv          38521 non-null  float64\n",
      " 3   term                     38521 non-null  object \n",
      " 4   int_rate                 38521 non-null  object \n",
      " 5   installment              38521 non-null  float64\n",
      " 6   grade                    38521 non-null  object \n",
      " 7   sub_grade                38521 non-null  object \n",
      " 8   emp_length               38521 non-null  object \n",
      " 9   home_ownership           38521 non-null  object \n",
      " 10  annual_inc               38521 non-null  float64\n",
      " 11  verification_status      38521 non-null  object \n",
      " 12  issue_d                  38521 non-null  object \n",
      " 13  loan_status              38521 non-null  object \n",
      " 14  purpose                  38521 non-null  object \n",
      " 15  title                    38521 non-null  object \n",
      " 16  zip_code                 38521 non-null  object \n",
      " 17  addr_state               38521 non-null  object \n",
      " 18  dti                      38521 non-null  float64\n",
      " 19  delinq_2yrs              38521 non-null  int64  \n",
      " 20  earliest_cr_line         38521 non-null  object \n",
      " 21  inq_last_6mths           38521 non-null  int64  \n",
      " 22  open_acc                 38521 non-null  int64  \n",
      " 23  pub_rec                  38521 non-null  int64  \n",
      " 24  revol_bal                38521 non-null  int64  \n",
      " 25  revol_util               38521 non-null  object \n",
      " 26  total_acc                38521 non-null  int64  \n",
      " 27  out_prncp                38521 non-null  float64\n",
      " 28  out_prncp_inv            38521 non-null  float64\n",
      " 29  total_pymnt              38521 non-null  float64\n",
      " 30  total_pymnt_inv          38521 non-null  float64\n",
      " 31  total_rec_prncp          38521 non-null  float64\n",
      " 32  total_rec_int            38521 non-null  float64\n",
      " 33  total_rec_late_fee       38521 non-null  float64\n",
      " 34  recoveries               38521 non-null  float64\n",
      " 35  collection_recovery_fee  38521 non-null  float64\n",
      " 36  last_pymnt_d             38521 non-null  object \n",
      " 37  last_pymnt_amnt          38521 non-null  float64\n",
      " 38  last_credit_pull_d       38521 non-null  object \n",
      " 39  pub_rec_bankruptcies     38521 non-null  float64\n",
      "dtypes: float64(15), int64(8), object(17)\n",
      "memory usage: 12.0+ MB\n"
     ]
    }
   ],
   "source": [
    "df.info()"
   ]
  },
  {
   "cell_type": "code",
   "execution_count": 40,
   "metadata": {},
   "outputs": [
    {
     "data": {
      "text/html": [
       "<div>\n",
       "<style scoped>\n",
       "    .dataframe tbody tr th:only-of-type {\n",
       "        vertical-align: middle;\n",
       "    }\n",
       "\n",
       "    .dataframe tbody tr th {\n",
       "        vertical-align: top;\n",
       "    }\n",
       "\n",
       "    .dataframe thead th {\n",
       "        text-align: right;\n",
       "    }\n",
       "</style>\n",
       "<table border=\"1\" class=\"dataframe\">\n",
       "  <thead>\n",
       "    <tr style=\"text-align: right;\">\n",
       "      <th></th>\n",
       "      <th>term</th>\n",
       "      <th>int_rate</th>\n",
       "      <th>grade</th>\n",
       "      <th>sub_grade</th>\n",
       "      <th>emp_length</th>\n",
       "      <th>home_ownership</th>\n",
       "      <th>verification_status</th>\n",
       "      <th>issue_d</th>\n",
       "      <th>loan_status</th>\n",
       "      <th>purpose</th>\n",
       "      <th>title</th>\n",
       "      <th>zip_code</th>\n",
       "      <th>addr_state</th>\n",
       "      <th>earliest_cr_line</th>\n",
       "      <th>revol_util</th>\n",
       "      <th>last_pymnt_d</th>\n",
       "      <th>last_credit_pull_d</th>\n",
       "    </tr>\n",
       "  </thead>\n",
       "  <tbody>\n",
       "    <tr>\n",
       "      <th>0</th>\n",
       "      <td>36 months</td>\n",
       "      <td>10.65%</td>\n",
       "      <td>B</td>\n",
       "      <td>B2</td>\n",
       "      <td>10+ years</td>\n",
       "      <td>RENT</td>\n",
       "      <td>Verified</td>\n",
       "      <td>Dec-11</td>\n",
       "      <td>Fully Paid</td>\n",
       "      <td>credit_card</td>\n",
       "      <td>Computer</td>\n",
       "      <td>860xx</td>\n",
       "      <td>AZ</td>\n",
       "      <td>Jan-85</td>\n",
       "      <td>83.70%</td>\n",
       "      <td>Jan-15</td>\n",
       "      <td>May-16</td>\n",
       "    </tr>\n",
       "    <tr>\n",
       "      <th>1</th>\n",
       "      <td>60 months</td>\n",
       "      <td>15.27%</td>\n",
       "      <td>C</td>\n",
       "      <td>C4</td>\n",
       "      <td>&lt; 1 year</td>\n",
       "      <td>RENT</td>\n",
       "      <td>Source Verified</td>\n",
       "      <td>Dec-11</td>\n",
       "      <td>Charged Off</td>\n",
       "      <td>car</td>\n",
       "      <td>bike</td>\n",
       "      <td>309xx</td>\n",
       "      <td>GA</td>\n",
       "      <td>Apr-99</td>\n",
       "      <td>9.40%</td>\n",
       "      <td>Apr-13</td>\n",
       "      <td>Sep-13</td>\n",
       "    </tr>\n",
       "    <tr>\n",
       "      <th>2</th>\n",
       "      <td>36 months</td>\n",
       "      <td>15.96%</td>\n",
       "      <td>C</td>\n",
       "      <td>C5</td>\n",
       "      <td>10+ years</td>\n",
       "      <td>RENT</td>\n",
       "      <td>Not Verified</td>\n",
       "      <td>Dec-11</td>\n",
       "      <td>Fully Paid</td>\n",
       "      <td>small_business</td>\n",
       "      <td>real estate business</td>\n",
       "      <td>606xx</td>\n",
       "      <td>IL</td>\n",
       "      <td>Nov-01</td>\n",
       "      <td>98.50%</td>\n",
       "      <td>Jun-14</td>\n",
       "      <td>May-16</td>\n",
       "    </tr>\n",
       "    <tr>\n",
       "      <th>3</th>\n",
       "      <td>36 months</td>\n",
       "      <td>13.49%</td>\n",
       "      <td>C</td>\n",
       "      <td>C1</td>\n",
       "      <td>10+ years</td>\n",
       "      <td>RENT</td>\n",
       "      <td>Source Verified</td>\n",
       "      <td>Dec-11</td>\n",
       "      <td>Fully Paid</td>\n",
       "      <td>other</td>\n",
       "      <td>personel</td>\n",
       "      <td>917xx</td>\n",
       "      <td>CA</td>\n",
       "      <td>Feb-96</td>\n",
       "      <td>21%</td>\n",
       "      <td>Jan-15</td>\n",
       "      <td>Apr-16</td>\n",
       "    </tr>\n",
       "    <tr>\n",
       "      <th>4</th>\n",
       "      <td>60 months</td>\n",
       "      <td>12.69%</td>\n",
       "      <td>B</td>\n",
       "      <td>B5</td>\n",
       "      <td>1 year</td>\n",
       "      <td>RENT</td>\n",
       "      <td>Source Verified</td>\n",
       "      <td>Dec-11</td>\n",
       "      <td>Current</td>\n",
       "      <td>other</td>\n",
       "      <td>Personal</td>\n",
       "      <td>972xx</td>\n",
       "      <td>OR</td>\n",
       "      <td>Jan-96</td>\n",
       "      <td>53.90%</td>\n",
       "      <td>May-16</td>\n",
       "      <td>May-16</td>\n",
       "    </tr>\n",
       "  </tbody>\n",
       "</table>\n",
       "</div>"
      ],
      "text/plain": [
       "         term int_rate grade sub_grade emp_length home_ownership  \\\n",
       "0   36 months   10.65%     B        B2  10+ years           RENT   \n",
       "1   60 months   15.27%     C        C4   < 1 year           RENT   \n",
       "2   36 months   15.96%     C        C5  10+ years           RENT   \n",
       "3   36 months   13.49%     C        C1  10+ years           RENT   \n",
       "4   60 months   12.69%     B        B5     1 year           RENT   \n",
       "\n",
       "  verification_status issue_d  loan_status         purpose  \\\n",
       "0            Verified  Dec-11   Fully Paid     credit_card   \n",
       "1     Source Verified  Dec-11  Charged Off             car   \n",
       "2        Not Verified  Dec-11   Fully Paid  small_business   \n",
       "3     Source Verified  Dec-11   Fully Paid           other   \n",
       "4     Source Verified  Dec-11      Current           other   \n",
       "\n",
       "                  title zip_code addr_state earliest_cr_line revol_util  \\\n",
       "0              Computer    860xx         AZ           Jan-85     83.70%   \n",
       "1                  bike    309xx         GA           Apr-99      9.40%   \n",
       "2  real estate business    606xx         IL           Nov-01     98.50%   \n",
       "3              personel    917xx         CA           Feb-96        21%   \n",
       "4              Personal    972xx         OR           Jan-96     53.90%   \n",
       "\n",
       "  last_pymnt_d last_credit_pull_d  \n",
       "0       Jan-15             May-16  \n",
       "1       Apr-13             Sep-13  \n",
       "2       Jun-14             May-16  \n",
       "3       Jan-15             Apr-16  \n",
       "4       May-16             May-16  "
      ]
     },
     "execution_count": 40,
     "metadata": {},
     "output_type": "execute_result"
    }
   ],
   "source": [
    "df.select_dtypes(include=['object']).head()"
   ]
  },
  {
   "cell_type": "code",
   "execution_count": 41,
   "metadata": {},
   "outputs": [],
   "source": [
    "# fetching int_rate by removing % and converting it to float\n",
    "\n",
    "df['int_rate'] = df['int_rate'].apply(lambda x: float(x[:-1]))"
   ]
  },
  {
   "cell_type": "code",
   "execution_count": 42,
   "metadata": {},
   "outputs": [
    {
     "data": {
      "text/plain": [
       "0    860xx\n",
       "1    309xx\n",
       "2    606xx\n",
       "3    917xx\n",
       "4    972xx\n",
       "Name: zip_code, dtype: object"
      ]
     },
     "execution_count": 42,
     "metadata": {},
     "output_type": "execute_result"
    }
   ],
   "source": [
    "df['zip_code'].head()"
   ]
  },
  {
   "cell_type": "code",
   "execution_count": 43,
   "metadata": {},
   "outputs": [],
   "source": [
    "# this column doesn't have full zip code and therefore can be dropped\n",
    "\n",
    "df = df.drop('zip_code', axis=1)"
   ]
  },
  {
   "cell_type": "code",
   "execution_count": 44,
   "metadata": {},
   "outputs": [],
   "source": [
    "# fetching revol_util by removing % and converting it to float\n",
    "\n",
    "df['revol_util'] = df['revol_util'].apply(lambda x: float(x[:-1]))"
   ]
  },
  {
   "cell_type": "code",
   "execution_count": 45,
   "metadata": {},
   "outputs": [
    {
     "data": {
      "text/plain": [
       "(38521, 39)"
      ]
     },
     "execution_count": 45,
     "metadata": {},
     "output_type": "execute_result"
    }
   ],
   "source": [
    "df.shape"
   ]
  },
  {
   "cell_type": "code",
   "execution_count": 49,
   "metadata": {},
   "outputs": [
    {
     "data": {
      "text/html": [
       "<div>\n",
       "<style scoped>\n",
       "    .dataframe tbody tr th:only-of-type {\n",
       "        vertical-align: middle;\n",
       "    }\n",
       "\n",
       "    .dataframe tbody tr th {\n",
       "        vertical-align: top;\n",
       "    }\n",
       "\n",
       "    .dataframe thead th {\n",
       "        text-align: right;\n",
       "    }\n",
       "</style>\n",
       "<table border=\"1\" class=\"dataframe\">\n",
       "  <thead>\n",
       "    <tr style=\"text-align: right;\">\n",
       "      <th></th>\n",
       "      <th>loan_amnt</th>\n",
       "      <th>funded_amnt</th>\n",
       "      <th>funded_amnt_inv</th>\n",
       "    </tr>\n",
       "  </thead>\n",
       "  <tbody>\n",
       "    <tr>\n",
       "      <th>0</th>\n",
       "      <td>5000</td>\n",
       "      <td>5000</td>\n",
       "      <td>4975.0</td>\n",
       "    </tr>\n",
       "    <tr>\n",
       "      <th>1</th>\n",
       "      <td>2500</td>\n",
       "      <td>2500</td>\n",
       "      <td>2500.0</td>\n",
       "    </tr>\n",
       "    <tr>\n",
       "      <th>2</th>\n",
       "      <td>2400</td>\n",
       "      <td>2400</td>\n",
       "      <td>2400.0</td>\n",
       "    </tr>\n",
       "    <tr>\n",
       "      <th>3</th>\n",
       "      <td>10000</td>\n",
       "      <td>10000</td>\n",
       "      <td>10000.0</td>\n",
       "    </tr>\n",
       "    <tr>\n",
       "      <th>4</th>\n",
       "      <td>3000</td>\n",
       "      <td>3000</td>\n",
       "      <td>3000.0</td>\n",
       "    </tr>\n",
       "    <tr>\n",
       "      <th>...</th>\n",
       "      <td>...</td>\n",
       "      <td>...</td>\n",
       "      <td>...</td>\n",
       "    </tr>\n",
       "    <tr>\n",
       "      <th>39712</th>\n",
       "      <td>2500</td>\n",
       "      <td>2500</td>\n",
       "      <td>1075.0</td>\n",
       "    </tr>\n",
       "    <tr>\n",
       "      <th>39713</th>\n",
       "      <td>8500</td>\n",
       "      <td>8500</td>\n",
       "      <td>875.0</td>\n",
       "    </tr>\n",
       "    <tr>\n",
       "      <th>39714</th>\n",
       "      <td>5000</td>\n",
       "      <td>5000</td>\n",
       "      <td>1325.0</td>\n",
       "    </tr>\n",
       "    <tr>\n",
       "      <th>39715</th>\n",
       "      <td>5000</td>\n",
       "      <td>5000</td>\n",
       "      <td>650.0</td>\n",
       "    </tr>\n",
       "    <tr>\n",
       "      <th>39716</th>\n",
       "      <td>7500</td>\n",
       "      <td>7500</td>\n",
       "      <td>800.0</td>\n",
       "    </tr>\n",
       "  </tbody>\n",
       "</table>\n",
       "<p>38521 rows × 3 columns</p>\n",
       "</div>"
      ],
      "text/plain": [
       "       loan_amnt  funded_amnt  funded_amnt_inv\n",
       "0           5000         5000           4975.0\n",
       "1           2500         2500           2500.0\n",
       "2           2400         2400           2400.0\n",
       "3          10000        10000          10000.0\n",
       "4           3000         3000           3000.0\n",
       "...          ...          ...              ...\n",
       "39712       2500         2500           1075.0\n",
       "39713       8500         8500            875.0\n",
       "39714       5000         5000           1325.0\n",
       "39715       5000         5000            650.0\n",
       "39716       7500         7500            800.0\n",
       "\n",
       "[38521 rows x 3 columns]"
      ]
     },
     "execution_count": 49,
     "metadata": {},
     "output_type": "execute_result"
    }
   ],
   "source": [
    "df[['loan_amnt', 'funded_amnt', 'funded_amnt_inv']]"
   ]
  },
  {
   "cell_type": "code",
   "execution_count": 52,
   "metadata": {},
   "outputs": [
    {
     "data": {
      "text/plain": [
       "(1815, 39)"
      ]
     },
     "execution_count": 52,
     "metadata": {},
     "output_type": "execute_result"
    }
   ],
   "source": [
    "df[df['loan_amnt']!=df['funded_amnt']].shape"
   ]
  },
  {
   "cell_type": "code",
   "execution_count": 53,
   "metadata": {},
   "outputs": [
    {
     "data": {
      "text/plain": [
       "(19769, 39)"
      ]
     },
     "execution_count": 53,
     "metadata": {},
     "output_type": "execute_result"
    }
   ],
   "source": [
    "df[df['loan_amnt']!=df['funded_amnt_inv']].shape"
   ]
  },
  {
   "cell_type": "code",
   "execution_count": null,
   "metadata": {},
   "outputs": [],
   "source": []
  }
 ],
 "metadata": {
  "kernelspec": {
   "display_name": "Python 3",
   "language": "python",
   "name": "python3"
  },
  "language_info": {
   "codemirror_mode": {
    "name": "ipython",
    "version": 3
   },
   "file_extension": ".py",
   "mimetype": "text/x-python",
   "name": "python",
   "nbconvert_exporter": "python",
   "pygments_lexer": "ipython3",
   "version": "3.8.3"
  }
 },
 "nbformat": 4,
 "nbformat_minor": 4
}
